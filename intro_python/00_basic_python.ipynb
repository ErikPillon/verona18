{
 "cells": [
  {
   "cell_type": "markdown",
   "metadata": {},
   "source": [
    "Introduction to Python\n",
    "===="
   ]
  },
  {
   "cell_type": "markdown",
   "metadata": {},
   "source": [
    "### Numbers"
   ]
  },
  {
   "cell_type": "code",
   "execution_count": 1,
   "metadata": {},
   "outputs": [
    {
     "data": {
      "text/plain": [
       "int"
      ]
     },
     "execution_count": 1,
     "metadata": {},
     "output_type": "execute_result"
    }
   ],
   "source": [
    "my_first_number = 1\n",
    "type(my_first_number)"
   ]
  },
  {
   "cell_type": "code",
   "execution_count": 2,
   "metadata": {},
   "outputs": [
    {
     "data": {
      "text/plain": [
       "1"
      ]
     },
     "execution_count": 2,
     "metadata": {},
     "output_type": "execute_result"
    }
   ],
   "source": [
    "my_second_number = my_first_number\n",
    "my_second_number"
   ]
  },
  {
   "cell_type": "code",
   "execution_count": 3,
   "metadata": {},
   "outputs": [
    {
     "data": {
      "text/plain": [
       "2"
      ]
     },
     "execution_count": 3,
     "metadata": {},
     "output_type": "execute_result"
    }
   ],
   "source": [
    "my_second_number = 2\n",
    "my_second_number"
   ]
  },
  {
   "cell_type": "code",
   "execution_count": 4,
   "metadata": {},
   "outputs": [
    {
     "data": {
      "text/plain": [
       "1"
      ]
     },
     "execution_count": 4,
     "metadata": {},
     "output_type": "execute_result"
    }
   ],
   "source": [
    "my_first_number"
   ]
  },
  {
   "cell_type": "code",
   "execution_count": 5,
   "metadata": {},
   "outputs": [
    {
     "data": {
      "text/plain": [
       "float"
      ]
     },
     "execution_count": 5,
     "metadata": {},
     "output_type": "execute_result"
    }
   ],
   "source": [
    "a = 1.0\n",
    "type(a)"
   ]
  },
  {
   "cell_type": "markdown",
   "metadata": {},
   "source": [
    "Complex numbers"
   ]
  },
  {
   "cell_type": "code",
   "execution_count": 6,
   "metadata": {},
   "outputs": [
    {
     "data": {
      "text/plain": [
       "complex"
      ]
     },
     "execution_count": 6,
     "metadata": {},
     "output_type": "execute_result"
    }
   ],
   "source": [
    "b = a + 2j\n",
    "type(b)"
   ]
  },
  {
   "cell_type": "code",
   "execution_count": 7,
   "metadata": {},
   "outputs": [
    {
     "data": {
      "text/plain": [
       "1.0"
      ]
     },
     "execution_count": 7,
     "metadata": {},
     "output_type": "execute_result"
    }
   ],
   "source": [
    "b.real"
   ]
  },
  {
   "cell_type": "code",
   "execution_count": 8,
   "metadata": {},
   "outputs": [
    {
     "data": {
      "text/plain": [
       "2.0"
      ]
     },
     "execution_count": 8,
     "metadata": {},
     "output_type": "execute_result"
    }
   ],
   "source": [
    "b.imag"
   ]
  },
  {
   "cell_type": "code",
   "execution_count": 9,
   "metadata": {},
   "outputs": [
    {
     "data": {
      "text/plain": [
       "(1+2j)"
      ]
     },
     "execution_count": 9,
     "metadata": {},
     "output_type": "execute_result"
    }
   ],
   "source": [
    "b"
   ]
  },
  {
   "cell_type": "code",
   "execution_count": 10,
   "metadata": {},
   "outputs": [
    {
     "data": {
      "text/plain": [
       "(1-2j)"
      ]
     },
     "execution_count": 10,
     "metadata": {},
     "output_type": "execute_result"
    }
   ],
   "source": [
    "b.conjugate()"
   ]
  },
  {
   "cell_type": "code",
   "execution_count": 11,
   "metadata": {},
   "outputs": [
    {
     "data": {
      "text/plain": [
       "(-3+4j)"
      ]
     },
     "execution_count": 11,
     "metadata": {},
     "output_type": "execute_result"
    }
   ],
   "source": [
    "b**2"
   ]
  },
  {
   "cell_type": "code",
   "execution_count": 12,
   "metadata": {},
   "outputs": [
    {
     "data": {
      "text/plain": [
       "(-3+4j)"
      ]
     },
     "execution_count": 12,
     "metadata": {},
     "output_type": "execute_result"
    }
   ],
   "source": [
    "b*b"
   ]
  },
  {
   "cell_type": "markdown",
   "metadata": {},
   "source": [
    "Float representation"
   ]
  },
  {
   "cell_type": "code",
   "execution_count": 13,
   "metadata": {},
   "outputs": [],
   "source": [
    "c = 1.2424524246325736847856795684567\n",
    "\n",
    "my_first_tuple = c.as_integer_ratio()\n",
    "numerator = my_first_tuple[0]\n",
    "denominator = my_first_tuple[1]"
   ]
  },
  {
   "cell_type": "code",
   "execution_count": 14,
   "metadata": {},
   "outputs": [
    {
     "data": {
      "text/plain": [
       "1398877069150207"
      ]
     },
     "execution_count": 14,
     "metadata": {},
     "output_type": "execute_result"
    }
   ],
   "source": [
    "numerator"
   ]
  },
  {
   "cell_type": "code",
   "execution_count": 15,
   "metadata": {},
   "outputs": [
    {
     "data": {
      "text/plain": [
       "1125899906842624"
      ]
     },
     "execution_count": 15,
     "metadata": {},
     "output_type": "execute_result"
    }
   ],
   "source": [
    "denominator"
   ]
  },
  {
   "cell_type": "code",
   "execution_count": 16,
   "metadata": {},
   "outputs": [
    {
     "data": {
      "text/plain": [
       "-0.24245242463257366"
      ]
     },
     "execution_count": 16,
     "metadata": {},
     "output_type": "execute_result"
    }
   ],
   "source": [
    "numerator/denominator - c"
   ]
  },
  {
   "cell_type": "code",
   "execution_count": 17,
   "metadata": {},
   "outputs": [],
   "source": [
    "from __future__ import division"
   ]
  },
  {
   "cell_type": "code",
   "execution_count": 18,
   "metadata": {},
   "outputs": [
    {
     "data": {
      "text/plain": [
       "0.0"
      ]
     },
     "execution_count": 18,
     "metadata": {},
     "output_type": "execute_result"
    }
   ],
   "source": [
    "numerator/denominator - c"
   ]
  },
  {
   "cell_type": "code",
   "execution_count": 19,
   "metadata": {},
   "outputs": [
    {
     "data": {
      "text/plain": [
       "False"
      ]
     },
     "execution_count": 19,
     "metadata": {},
     "output_type": "execute_result"
    }
   ],
   "source": [
    "c.is_integer()"
   ]
  },
  {
   "cell_type": "markdown",
   "metadata": {},
   "source": [
    "### Print and strings"
   ]
  },
  {
   "cell_type": "code",
   "execution_count": 20,
   "metadata": {},
   "outputs": [
    {
     "name": "stdout",
     "output_type": "stream",
     "text": [
      "Hello, world!\n"
     ]
    }
   ],
   "source": [
    "print('Hello, world!')"
   ]
  },
  {
   "cell_type": "code",
   "execution_count": 21,
   "metadata": {},
   "outputs": [
    {
     "name": "stdout",
     "output_type": "stream",
     "text": [
      "What are you doing?\n",
      "\n",
      "I just skept a line\n",
      "but I could skip more of them in this way. Check it here below!\n",
      "\n",
      "\n",
      "\n",
      "\n",
      "You see? It was easy.\n",
      "\n",
      "<type 'str'>\n",
      "The \"print\" function accepts a string variable as input.\n",
      "\n",
      "Printing is very important.\n",
      "\tDo\tit\tproperly!\n"
     ]
    }
   ],
   "source": [
    "print('What are you doing?')\n",
    "print('')\n",
    "print('I just skept a line')\n",
    "print('but I could skip more of them in this way. Check it here below!\\n\\n\\n\\n')\n",
    "print('You see? It was easy.\\n')\n",
    "\n",
    "next_string = 'The \"print\" function accepts a string variable as input.'\n",
    "print(type(next_string))\n",
    "print(next_string)\n",
    "print('\\nPrinting is very important.\\n\\tDo\\tit\\tproperly!')"
   ]
  },
  {
   "cell_type": "markdown",
   "metadata": {},
   "source": [
    "### IF statement"
   ]
  },
  {
   "cell_type": "code",
   "execution_count": 22,
   "metadata": {},
   "outputs": [
    {
     "name": "stdout",
     "output_type": "stream",
     "text": [
      "I'm printing something inside an 'if' statement!\n"
     ]
    }
   ],
   "source": [
    "print_more_stuff = True\n",
    "\n",
    "if print_more_stuff:\n",
    "    print(\"I'm printing something inside an 'if' statement!\")\n",
    "else:\n",
    "    print(\"Ok, you didn't want to print more stuff, but I don't really care what you wanted to do.\")"
   ]
  },
  {
   "cell_type": "code",
   "execution_count": 23,
   "metadata": {},
   "outputs": [
    {
     "name": "stdout",
     "output_type": "stream",
     "text": [
      "Nay\n"
     ]
    }
   ],
   "source": [
    "a = 15+18\n",
    "b = 36\n",
    "\n",
    "condition = (a == b)\n",
    "if condition:\n",
    "    print('Yay')\n",
    "else:\n",
    "    print('Nay')"
   ]
  },
  {
   "cell_type": "code",
   "execution_count": 24,
   "metadata": {},
   "outputs": [
    {
     "name": "stdout",
     "output_type": "stream",
     "text": [
      "(1, ' > ', 5)\n",
      "(2, ' > ', 5)\n",
      "(3, ' > ', 5)\n",
      "(4, ' > ', 5)\n",
      "Neither test was true\n",
      "Neither test was true\n",
      "(7, ' <= ', 7)\n",
      "(8, ' <= ', 7)\n",
      "(9, ' <= ', 7)\n",
      "(10, ' <= ', 7)\n"
     ]
    }
   ],
   "source": [
    "a = 0\n",
    "while a < 10:\n",
    "    a += 1\n",
    "    if a < 5:\n",
    "        print(a,\" > \",5)\n",
    "    elif a >= 7:\n",
    "        print(a,\" <= \",7)\n",
    "    else:\n",
    "        print(\"Neither test was true\")"
   ]
  },
  {
   "cell_type": "markdown",
   "metadata": {},
   "source": [
    "### FOR cycle"
   ]
  },
  {
   "cell_type": "code",
   "execution_count": 25,
   "metadata": {},
   "outputs": [
    {
     "name": "stdout",
     "output_type": "stream",
     "text": [
      "0\n",
      "1\n",
      "2\n",
      "3\n",
      "4\n",
      "5\n",
      "6\n",
      "7\n",
      "8\n",
      "9\n",
      "True\n",
      "\n",
      "I can print the single characters of a string\n",
      "\n",
      "\n",
      "I\n",
      " \n",
      "c\n",
      "a\n",
      "n\n",
      " \n",
      "p\n",
      "r\n",
      "i\n",
      "n\n",
      "t\n",
      " \n",
      "t\n",
      "h\n",
      "e\n",
      " \n",
      "s\n",
      "i\n",
      "n\n",
      "g\n",
      "l\n",
      "e\n",
      " \n",
      "c\n",
      "h\n",
      "a\n",
      "r\n",
      "a\n",
      "c\n",
      "t\n",
      "e\n",
      "r\n",
      "s\n",
      " \n",
      "o\n",
      "f\n",
      " \n",
      "a\n",
      " \n",
      "s\n",
      "t\n",
      "r\n",
      "i\n",
      "n\n",
      "g\n"
     ]
    }
   ],
   "source": [
    "# A \"for\" statement works like this:\n",
    "for k in range(0,10):\n",
    "    # do something\n",
    "    print(k)\n",
    "\n",
    "print(range(0,10)==range(10))\n",
    "\n",
    "mystring = '\\nI can print the single characters of a string'\n",
    "print(mystring)\n",
    "for character in mystring:\n",
    "    print(character)"
   ]
  },
  {
   "cell_type": "markdown",
   "metadata": {},
   "source": [
    "### LISTS"
   ]
  },
  {
   "cell_type": "code",
   "execution_count": 26,
   "metadata": {},
   "outputs": [
    {
     "name": "stdout",
     "output_type": "stream",
     "text": [
      "[1, 2, 35, 57, 342, 45, 345, 35, 65, 865, 9, 47, 56]\n",
      "1\n",
      "2\n",
      "35\n",
      "57\n",
      "342\n",
      "45\n",
      "345\n",
      "35\n",
      "65\n",
      "865\n",
      "9\n",
      "47\n",
      "56\n",
      "[1, 2]\n",
      "[47, 56]\n",
      "[1, 57, 345, 865, 56]\n"
     ]
    }
   ],
   "source": [
    "# Here I have a list\n",
    "mylist = [1,2,35,57,342,45,345,35,65,865,9,47,56]\n",
    "print(mylist)\n",
    "\n",
    "# It is an iterable object, which means that I can write a for loop on it\n",
    "for k in mylist:\n",
    "    print(k)\n",
    "\n",
    "# I can take only its first two elements\n",
    "print(mylist[:2])\n",
    "\n",
    "# Or the two last\n",
    "print(mylist[-2:])\n",
    "\n",
    "# Or one every three elements\n",
    "print(mylist[::3])"
   ]
  },
  {
   "cell_type": "markdown",
   "metadata": {},
   "source": [
    "### FUNCTIONS"
   ]
  },
  {
   "cell_type": "code",
   "execution_count": 31,
   "metadata": {},
   "outputs": [],
   "source": [
    "# This function returns a value\n",
    "def compute_double(input_number):\n",
    "    twice_the_input = 2*input_number\n",
    "    return(twice_the_input)\n",
    "\n",
    "\n",
    "# This function returns multiple values\n",
    "def some_operations(input_number = 13):\n",
    "    twice = compute_double(input_number)\n",
    "    third_power = input_number**3\n",
    "    minus_one = input_number - 1\n",
    "    division_by_three = input_number / 3\n",
    "    another_division_by_three = input_number / 3.0\n",
    "    integer_division_by_three = input_number // 3\n",
    "    return twice, third_power, minus_one, \\\n",
    "           division_by_three, another_division_by_three, \\\n",
    "           integer_division_by_three\n",
    "\n",
    "# Anonymous functions are called LAMBDA functions'\n",
    "four_times = lambda x: compute_double(2*x)"
   ]
  },
  {
   "cell_type": "code",
   "execution_count": 32,
   "metadata": {},
   "outputs": [
    {
     "name": "stdout",
     "output_type": "stream",
     "text": [
      "666 times 2 is 1332\n",
      "666 times 4 is 2664\n",
      "(1332, 295408296, 665, 222.0, 222.0, 222)\n",
      "The default output is\n",
      "(26, 2197, 12, 4.333333333333333, 4.333333333333333, 4)\n",
      "The output for input=42 is\n",
      "(84, 74088, 41, 14.0, 14.0, 14)\n"
     ]
    }
   ],
   "source": [
    "mynumber = 666\n",
    "its_double = compute_double(mynumber)\n",
    "double_of_double = four_times(mynumber)\n",
    "\n",
    "print(str(mynumber)+' times 2 is '+str(its_double))\n",
    "print(str(mynumber)+' times 4 is '+str(double_of_double))\n",
    "        \n",
    "tuple_with_the_output = some_operations(mynumber)\n",
    "print(tuple_with_the_output)\n",
    "print('The default output is')\n",
    "print(some_operations())\n",
    "myinput = 42\n",
    "print('The output for input=%02d is' % myinput)\n",
    "print(some_operations(myinput))"
   ]
  },
  {
   "cell_type": "code",
   "execution_count": null,
   "metadata": {},
   "outputs": [],
   "source": []
  }
 ],
 "metadata": {
  "kernelspec": {
   "display_name": "Python 2",
   "language": "python",
   "name": "python2"
  },
  "language_info": {
   "codemirror_mode": {
    "name": "ipython",
    "version": 2
   },
   "file_extension": ".py",
   "mimetype": "text/x-python",
   "name": "python",
   "nbconvert_exporter": "python",
   "pygments_lexer": "ipython2",
   "version": "2.7.14"
  }
 },
 "nbformat": 4,
 "nbformat_minor": 2
}
