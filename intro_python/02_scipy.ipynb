{
 "cells": [
  {
   "cell_type": "code",
   "execution_count": 4,
   "metadata": {},
   "outputs": [],
   "source": [
    "import numpy as np\n",
    "import scipy.linalg\n",
    "\n",
    "np.random.seed(1984)"
   ]
  },
  {
   "cell_type": "markdown",
   "metadata": {},
   "source": [
    "### Forward problem\n",
    "Find $x$ such that\n",
    "\\begin{equation}\n",
    "\\nonumber\n",
    "Ax = b\n",
    "\\end{equation}\n",
    "for $A\\in\\mathbb{R}^{n\\times n}$ and $b\\in\\mathbb{R}^n$."
   ]
  },
  {
   "cell_type": "code",
   "execution_count": 7,
   "metadata": {},
   "outputs": [
    {
     "name": "stdout",
     "output_type": "stream",
     "text": [
      "Conditioning number: 1.000000000000001\n"
     ]
    }
   ],
   "source": [
    "x_len = 10\n",
    "x_hat = np.arange(x_len, dtype=float) # wanted solution\n",
    "\n",
    "# here I impose a specific conditioning number\n",
    "cond = 1e-0\n",
    "\n",
    "A = np.random.randn(x_len, x_len)\n",
    "U,S,V = scipy.linalg.svd(A)\n",
    "S[S!=0] = np.linspace(cond, 1, x_len)\n",
    "S = np.diag(S)\n",
    "A = U.dot(S.dot(V.T))\n",
    "print('Conditioning number: %s' % np.linalg.cond(A))\n",
    "\n",
    "# compute the RHS\n",
    "b = A.dot(x_hat)"
   ]
  },
  {
   "cell_type": "markdown",
   "metadata": {},
   "source": [
    "### Solve the linear system"
   ]
  },
  {
   "cell_type": "code",
   "execution_count": 9,
   "metadata": {},
   "outputs": [
    {
     "name": "stdout",
     "output_type": "stream",
     "text": [
      "Error: 4.2301618346268686e-15\n"
     ]
    }
   ],
   "source": [
    "x = scipy.linalg.solve(A,b)\n",
    "\n",
    "print('Error: %s' % np.linalg.norm(x-x_hat))"
   ]
  },
  {
   "cell_type": "markdown",
   "metadata": {},
   "source": [
    "### What about noise?"
   ]
  },
  {
   "cell_type": "code",
   "execution_count": 13,
   "metadata": {},
   "outputs": [],
   "source": [
    "snr = 100.0\n",
    "sigma = np.mean(b)/snr\n",
    "bn = b + sigma*np.random.randn(x_len)"
   ]
  },
  {
   "cell_type": "markdown",
   "metadata": {},
   "source": [
    "### Find best solution in the sense of least squares\n",
    "\n",
    "\\begin{equation}\n",
    "x_n = \\arg\\min_x\\|Ax-b\\|_2^2\n",
    "\\end{equation}"
   ]
  },
  {
   "cell_type": "code",
   "execution_count": 14,
   "metadata": {},
   "outputs": [
    {
     "name": "stdout",
     "output_type": "stream",
     "text": [
      "Error: 0.038219759481329135\n"
     ]
    }
   ],
   "source": [
    "xn, __, __, __ = scipy.linalg.lstsq(A,bn)\n",
    "print('Error: %s' % np.linalg.norm(xn-x_hat))"
   ]
  },
  {
   "cell_type": "code",
   "execution_count": null,
   "metadata": {},
   "outputs": [],
   "source": []
  }
 ],
 "metadata": {
  "kernelspec": {
   "display_name": "Python 2",
   "language": "python",
   "name": "python2"
  },
  "language_info": {
   "codemirror_mode": {
    "name": "ipython",
    "version": 2
   },
   "file_extension": ".py",
   "mimetype": "text/x-python",
   "name": "python",
   "nbconvert_exporter": "python",
   "pygments_lexer": "ipython2",
   "version": "2.7.14"
  }
 },
 "nbformat": 4,
 "nbformat_minor": 2
}
