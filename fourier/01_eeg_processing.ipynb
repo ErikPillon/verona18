{
 "cells": [
  {
   "cell_type": "code",
   "execution_count": null,
   "metadata": {},
   "outputs": [],
   "source": [
    "from os import path\n",
    "\n",
    "import numpy as np\n",
    "\n",
    "import matplotlib.pyplot as plt\n",
    "%matplotlib inline"
   ]
  },
  {
   "cell_type": "markdown",
   "metadata": {},
   "source": [
    "Load the time series to be studied\n",
    "====="
   ]
  },
  {
   "cell_type": "code",
   "execution_count": null,
   "metadata": {},
   "outputs": [],
   "source": [
    "path_file = path.join('data','channel_20.npy')\n",
    "ch = np.load(path_file)\n",
    "# ch = all_channels[:,20,:]\n",
    "R_not_filt = np.mean(ch, axis=0)\n",
    "# np.save('channel_20.npy', ch)"
   ]
  },
  {
   "cell_type": "code",
   "execution_count": null,
   "metadata": {
    "scrolled": true
   },
   "outputs": [],
   "source": [
    "fig = plt.figure()\n",
    "t = np.linspace(0, 1,R_not_filt.shape[0])\n",
    "plt.plot(t,(R_not_filt),'r',label=\"mean\")\n",
    "plt.xlabel('Time [s]')\n",
    "plt.ylabel('Amplitude')\n",
    "plt.title('Raw EEG')"
   ]
  },
  {
   "cell_type": "markdown",
   "metadata": {},
   "source": [
    "## Filter design\n",
    "A filter can be designed starting from the linear constant-coefficient difference equation (ARMA model)\n",
    "\\begin{equation}\n",
    "\\sum_{p=0}^{N}y[n-p]\\alpha_{p} = \\sum_{q=0}^{M}x[n-q]\\beta_{q}\n",
    "\\end{equation}\n",
    "that is completely determined by the coefficients $\\alpha$ and $\\beta$."
   ]
  },
  {
   "cell_type": "code",
   "execution_count": null,
   "metadata": {},
   "outputs": [],
   "source": [
    "from scipy.signal import butter, lfilter\n",
    "\n",
    "def butter_bandpass_filter(data, lowcut, highcut, fs, order=5):\n",
    "    nyq = 0.5 * fs\n",
    "    low = lowcut / nyq\n",
    "    high = highcut / nyq\n",
    "\n",
    "    b, a = butter(order, [low, high], btype='band')\n",
    "    y = lfilter(b, a, data)\n",
    "    \n",
    "    return y"
   ]
  },
  {
   "cell_type": "code",
   "execution_count": null,
   "metadata": {},
   "outputs": [],
   "source": [
    "signal_filtered = butter_bandpass_filter(ch, 1, 10, 600, order=5)\n",
    "R_filt = np.mean(signal_filtered,axis=0)"
   ]
  },
  {
   "cell_type": "code",
   "execution_count": null,
   "metadata": {},
   "outputs": [],
   "source": [
    "fig = plt.figure() \n",
    "plt.plot(R_filt)\n",
    "v=([0,630,-1,1])\n",
    "plt.axis(v)\n",
    "plt.xlabel('Number of samples')\n",
    "plt.ylabel('Amplitude')\n",
    "plt.title('Filtered EEG')"
   ]
  },
  {
   "cell_type": "code",
   "execution_count": null,
   "metadata": {
    "scrolled": true
   },
   "outputs": [],
   "source": [
    "fig = plt.figure()\n",
    "t = np.linspace(0, 1,R_filt.shape[0])\n",
    "plt.plot(t,(R_filt),'r',label=\"mean\")\n",
    "v=([0,1,-3,3])\n",
    "plt.axis(v)\n",
    "plt.xlabel('Time [s]')\n",
    "plt.ylabel('Amplitude')\n",
    "plt.title('Mean template filtered')"
   ]
  },
  {
   "cell_type": "markdown",
   "metadata": {},
   "source": [
    "Plot the filter that we will use\n",
    "==="
   ]
  },
  {
   "cell_type": "code",
   "execution_count": null,
   "metadata": {},
   "outputs": [],
   "source": [
    "from scipy import signal\n",
    "import matplotlib.pyplot as plt\n",
    "import numpy as np\n",
    "\n",
    "N, Wn = signal.buttord([1, 10], [0, 15], 3, 10, True)\n",
    "b, a = signal.butter(N, Wn, 'band', True)\n",
    "w, h = signal.freqs(b, a, np.logspace(0.5, 2, 500))\n",
    "\n",
    "\n",
    "plt.plot(w, 20 * np.log10(abs(h)))\n",
    "plt.xscale('log')\n",
    "plt.title('Butterworth filter frequency response')\n",
    "plt.xlabel('Frequency [radians / second]')\n",
    "plt.ylabel('Amplitude [dB]')\n",
    "plt.grid(which='both', axis='both')\n",
    "plt.show()"
   ]
  },
  {
   "cell_type": "code",
   "execution_count": null,
   "metadata": {},
   "outputs": [],
   "source": [
    "#Spectre \n",
    "n = len(R_not_filt) \n",
    "k = np.arange(n)\n",
    "Fs = 500;\n",
    "T = n/float(Fs)\n",
    "frq = k/float(T)      \n",
    "frq = frq[range(n/2)] \n",
    "Y = np.fft.fft(R_not_filt, norm=\"ortho\")\n",
    "Y = Y[range(n/2)]"
   ]
  },
  {
   "cell_type": "code",
   "execution_count": null,
   "metadata": {
    "scrolled": true
   },
   "outputs": [],
   "source": [
    "#Affichage spectre\n",
    "import matplotlib.pyplot as plt\n",
    "plt.figure(1)\n",
    "plt.plot(frq,abs(Y)**2)\n",
    "plt.xlim(0, 60 ) \n",
    "plt.title('Power Spectral Density raw EEG')\n",
    "plt.xlabel('Freq (Hz)')\n",
    "plt.ylabel('|Y(freq)|')\n",
    "plt.savefig('psd_beforefilt.png')\n",
    "\n",
    "plt.show()"
   ]
  },
  {
   "cell_type": "code",
   "execution_count": null,
   "metadata": {},
   "outputs": [],
   "source": [
    "#Spectre premier note\n",
    "n = len(R_filt) \n",
    "k = np.arange(n)\n",
    "Fs = 500;\n",
    "T = n/float(Fs)\n",
    "frq = k/float(T)      \n",
    "frq = frq[range(n/2)] \n",
    "Y = np.fft.fft(R_filt, norm=\"ortho\")\n",
    "Y = Y[range(n/2)]"
   ]
  },
  {
   "cell_type": "code",
   "execution_count": null,
   "metadata": {},
   "outputs": [],
   "source": [
    "#Affichage spectre\n",
    "import matplotlib.pyplot as plt\n",
    "plt.figure(1)\n",
    "plt.plot(frq,abs(Y)**2)\n",
    "plt.xlim(0, 60 ) \n",
    "plt.title('Power Spectral Density filtered EEG')\n",
    "plt.xlabel('Freq (Hz)')\n",
    "plt.ylabel('|Y(freq)|')\n",
    "plt.savefig('psd_afterfilt.png')\n",
    "plt.show()"
   ]
  },
  {
   "cell_type": "code",
   "execution_count": null,
   "metadata": {},
   "outputs": [],
   "source": []
  },
  {
   "cell_type": "code",
   "execution_count": null,
   "metadata": {},
   "outputs": [],
   "source": []
  },
  {
   "cell_type": "code",
   "execution_count": null,
   "metadata": {},
   "outputs": [],
   "source": []
  }
 ],
 "metadata": {
  "kernelspec": {
   "display_name": "Python 2",
   "language": "python",
   "name": "python2"
  },
  "language_info": {
   "codemirror_mode": {
    "name": "ipython",
    "version": 2
   },
   "file_extension": ".py",
   "mimetype": "text/x-python",
   "name": "python",
   "nbconvert_exporter": "python",
   "pygments_lexer": "ipython2",
   "version": "2.7.14"
  }
 },
 "nbformat": 4,
 "nbformat_minor": 1
}
