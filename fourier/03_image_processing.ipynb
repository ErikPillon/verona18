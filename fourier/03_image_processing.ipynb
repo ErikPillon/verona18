{
 "cells": [
  {
   "cell_type": "markdown",
   "metadata": {},
   "source": [
    "2D Sampling\n",
    "========\n",
    "-----------------------------"
   ]
  },
  {
   "cell_type": "code",
   "execution_count": null,
   "metadata": {},
   "outputs": [],
   "source": [
    "from os import path\n",
    "import numpy as np\n",
    "import matplotlib.pyplot as plt\n",
    "%matplotlib inline \n",
    "import scipy.misc"
   ]
  },
  {
   "cell_type": "markdown",
   "metadata": {},
   "source": [
    "--------------------\n",
    "Define a function that subsamples the image\n"
   ]
  },
  {
   "cell_type": "code",
   "execution_count": null,
   "metadata": {},
   "outputs": [],
   "source": [
    "def subsample (img,n):\n",
    "    [lines,columns]= img.shape\n",
    "    img_sub_sampled = img[0:lines:n, 0:columns:n]\n",
    "    return img_sub_sampled"
   ]
  },
  {
   "cell_type": "markdown",
   "metadata": {},
   "source": [
    "--------------------\n",
    "Load and subsample the image"
   ]
  },
  {
   "cell_type": "code",
   "execution_count": null,
   "metadata": {},
   "outputs": [],
   "source": [
    "path_image = path.join('data','circles.png')\n",
    "img = plt.imread(path_image,0)\n",
    "\n",
    "subsampling_factor = 4\n",
    "\n",
    "img_subsampled = subsample(img,subsampling_factor)\n",
    "\n",
    "path_image_subsampled = path.join('data','circles_subsampled.png')\n",
    "plt.imsave(path_image_subsampled,img_subsampled, cmap='gray')\n",
    "print(img.shape)\n",
    "print(img_subsampled.shape)"
   ]
  },
  {
   "cell_type": "code",
   "execution_count": null,
   "metadata": {
    "scrolled": true
   },
   "outputs": [],
   "source": [
    "plt.figure(1, figsize = (10,4))\n",
    "\n",
    "plt.subplot(121)\n",
    "plt.imshow(img, cmap = 'gray')\n",
    "plt.title(\"Circles\")\n",
    "\n",
    "plt.subplot(122)\n",
    "plt.imshow(img_subsampled, cmap = 'gray')\n",
    "plt.title(\"Subsampled circles\")\n",
    "\n",
    "plt.show()"
   ]
  },
  {
   "cell_type": "markdown",
   "metadata": {},
   "source": [
    "--------------------\n",
    "Show the **spectrum** of the image before and after the subsampling.\n"
   ]
  },
  {
   "cell_type": "code",
   "execution_count": null,
   "metadata": {},
   "outputs": [],
   "source": [
    "def spectrum(img):\n",
    "    f = np.fft.fft2(img)\n",
    "    fshift = np.fft.fftshift(f)\n",
    "    magnitude_spectrum = np.abs(fshift)\n",
    "    return magnitude_spectrum"
   ]
  },
  {
   "cell_type": "code",
   "execution_count": null,
   "metadata": {},
   "outputs": [],
   "source": [
    "spectrum_original = spectrum(img)\n",
    "spectrum_subsampled = spectrum(img_subsampled)\n",
    "\n",
    "plt.figure(1, figsize = (10,4))\n",
    "\n",
    "plt.subplot(121)\n",
    "plt.imshow(np.log(spectrum_original), cmap = 'gray')\n",
    "plt.title('Spectrum original img')\n",
    "\n",
    "plt.subplot(122)\n",
    "plt.imshow(np.log(spectrum_subsampled), cmap = 'gray')\n",
    "plt.title('Spectrum subsampled img')\n",
    "plt.show()"
   ]
  },
  {
   "cell_type": "markdown",
   "metadata": {},
   "source": [
    "Filter the image in frequency space\n",
    "===\n"
   ]
  },
  {
   "cell_type": "code",
   "execution_count": null,
   "metadata": {},
   "outputs": [],
   "source": [
    "rows, cols = img.shape\n",
    "\n",
    "# create square mask with ones in the center and zero everywhere else\n",
    "square = np.zeros((rows,cols),np.uint8)\n",
    "N = 64\n",
    "square[(rows-N)/2:(rows+N)/2, (cols-N)/2:(cols+N)/2] = 1\n",
    "\n",
    "plt.figure()\n",
    "plt.imshow(square, cmap = 'gray')\n",
    "plt.title('Template square filter')\n",
    "plt.show()\n",
    "\n",
    "# Image in frequency space\n",
    "img_freq = np.fft.fft2(img) # F(u,v)\n",
    "\n",
    "# Shift the square filter\n",
    "filt_freq_shift = np.fft.fftshift(square) \n",
    "\n",
    "# Filter in frequency space\n",
    "img_filt = img_freq*filt_freq_shift # G(u,v) = F(u,v)*H(u,v)\n",
    "\n",
    "# Just to understand why fftshift is necessary\n",
    "plt.figure(7,figsize = (20,5))\n",
    "\n",
    "plt.subplot(131)\n",
    "plt.plot(img_freq)\n",
    "plt.title('Image in frequency space')\n",
    "\n",
    "plt.subplot(132)\n",
    "plt.plot(square)\n",
    "plt.title('Filter')\n",
    "\n",
    "plt.subplot(133)\n",
    "plt.plot(filt_freq_shift)\n",
    "plt.title('Shifted filter')\n",
    "\n",
    "plt.show()"
   ]
  },
  {
   "cell_type": "markdown",
   "metadata": {},
   "source": [
    "Compare the spectrum before and after the frequency filtering\n",
    "===="
   ]
  },
  {
   "cell_type": "code",
   "execution_count": null,
   "metadata": {},
   "outputs": [],
   "source": [
    "spectrum_original = spectrum(img)\n",
    "spectrum_filtered = np.log(np.abs(np.fft.fftshift(img_filt))) \n",
    "\n",
    "plt.figure(8,figsize = (15,5))\n",
    "plt.subplot(121)\n",
    "plt.imshow(np.log(spectrum_original), cmap = 'gray')\n",
    "plt.title('Spectrum original image')\n",
    "plt.subplot(122)\n",
    "plt.imshow(spectrum_filtered, cmap = 'gray')\n",
    "plt.title('Spectrum filtered image')\n",
    "plt.show()"
   ]
  },
  {
   "cell_type": "markdown",
   "metadata": {},
   "source": [
    "Back to real space\n",
    "===="
   ]
  },
  {
   "cell_type": "code",
   "execution_count": null,
   "metadata": {},
   "outputs": [],
   "source": [
    "img_real =  np.abs(np.fft.ifft2(img_filt))\n",
    "\n",
    "plt.figure(figsize = (10,5))\n",
    "plt.imshow(img_real,cmap = 'gray')\n",
    "plt.show()"
   ]
  },
  {
   "cell_type": "code",
   "execution_count": null,
   "metadata": {},
   "outputs": [],
   "source": [
    "img_filt_subsampled = subsample(img_real, 4)\n",
    "\n",
    "plt.figure(figsize = (10,5))\n",
    "plt.imshow(img_filt_subsampled, cmap = 'gray')\n",
    "plt.show()"
   ]
  },
  {
   "cell_type": "markdown",
   "metadata": {},
   "source": [
    "-------------------\n",
    "Ideal lowpass filter\n",
    "====\n",
    "An ideal lowpass filter keeps all the frequences (without attenuation) within a circle centered in the origin and cancels all the others."
   ]
  },
  {
   "cell_type": "code",
   "execution_count": null,
   "metadata": {},
   "outputs": [],
   "source": [
    "M, N = img.shape\n",
    "\n",
    "x,y = np.mgrid[-M/2:M/2:1,-N/2:N/2:1]\n",
    "\n",
    "disk = (x**2+y**2 <= (N/8)**2).astype(float)\n",
    "disk_freq = np.fft.fftshift(disk)\n",
    "\n",
    "img_filtered_disk = img_freq*disk_freq\n",
    "\n",
    "spectrum_filt = np.log(np.abs(np.fft.fftshift(img_filtered_disk)+1)) \n",
    "\n",
    "# Plot disk and spectrum\n",
    "plt.figure(7,figsize = (20,5))\n",
    "\n",
    "plt.subplot(131)\n",
    "plt.imshow(disk, cmap = 'gray')\n",
    "plt.title('Disk')\n",
    "\n",
    "plt.subplot(132)\n",
    "plt.imshow(np.log(spectrum_original), cmap = 'gray')\n",
    "plt.title('Spectrum')\n",
    "\n",
    "plt.subplot(133)\n",
    "plt.imshow(spectrum_filt, cmap = 'gray')\n",
    "plt.title('Product in frequency space')\n",
    "plt.show()"
   ]
  },
  {
   "cell_type": "code",
   "execution_count": null,
   "metadata": {},
   "outputs": [],
   "source": [
    "# Why do we need the fftshift?\n",
    "plt.figure(7,figsize = (20,5))\n",
    "\n",
    "plt.subplot(131)\n",
    "plt.plot(img_freq)\n",
    "plt.title('Image en frequence')\n",
    "\n",
    "plt.subplot(132)\n",
    "plt.plot(disk)\n",
    "plt.title('disque')\n",
    "\n",
    "plt.subplot(133)\n",
    "plt.plot(disk_freq)\n",
    "plt.title('ffshift filtre disque')\n",
    "\n",
    "plt.show()"
   ]
  },
  {
   "cell_type": "code",
   "execution_count": null,
   "metadata": {},
   "outputs": [],
   "source": [
    "img_space_disk =  np.abs(np.fft.ifft2(img_filtered_disk))\n",
    "\n",
    "plt.figure(figsize = (10,5))\n",
    "\n",
    "plt.subplot(131)\n",
    "plt.imshow(img_space_disk, cmap = 'gray')\n",
    "plt.title('low pass filtered')\n",
    "\n",
    "plt.subplot(132)\n",
    "plt.imshow(img, cmap = 'gray')\n",
    "plt.title('original')\n",
    "\n",
    "plt.subplot(133)\n",
    "plt.imshow(img_subsampled, cmap = 'gray')\n",
    "plt.title('subsampled')\n",
    "\n",
    "plt.show()\n"
   ]
  },
  {
   "cell_type": "code",
   "execution_count": null,
   "metadata": {},
   "outputs": [],
   "source": [
    "#Image filtree decimee\n",
    "img_subsampled_filtered_disk = subsample(img_space_disk, subsampling_factor)\n",
    "\n",
    "plt.figure(figsize = (10,5))\n",
    "plt.imshow(img_subsampled_filtered_disk,cmap = 'gray')\n",
    "plt.title('Subsampled disk-filtered image')\n",
    "plt.show()\n"
   ]
  },
  {
   "cell_type": "markdown",
   "metadata": {
    "collapsed": true
   },
   "source": [
    "Gaussian filter\n",
    "===\n",
    "\n",
    "Documentation of the function: [https://docs.scipy.org/doc/scipy/reference/generated/scipy.ndimage.gaussian_filter.html](https://docs.scipy.org/doc/scipy/reference/generated/scipy.ndimage.gaussian_filter.html)"
   ]
  },
  {
   "cell_type": "code",
   "execution_count": null,
   "metadata": {},
   "outputs": [],
   "source": [
    "from scipy.ndimage.filters import gaussian_filter\n",
    "img_filtered_gaussian = gaussian_filter(img, sigma = 1)"
   ]
  },
  {
   "cell_type": "code",
   "execution_count": null,
   "metadata": {},
   "outputs": [],
   "source": [
    "plt.figure(1, figsize = (15,8))\n",
    "\n",
    "plt.subplot(131)\n",
    "plt.imshow(img, cmap = 'gray')\n",
    "plt.title(\"Circles\")\n",
    "\n",
    "plt.subplot(132)\n",
    "plt.imshow(img_subsampled, cmap = 'gray')\n",
    "plt.title(\"Subsampled circles\")\n",
    "\n",
    "plt.subplot(133)\n",
    "plt.imshow(img_filtered_gaussian,cmap = 'gray')\n",
    "plt.title('Image after gaussian filtering')\n",
    "\n",
    "plt.show()\n",
    "\n",
    "plt.imsave(path.join('data','gaussian_filtering.png'), img_filtered_gaussian, cmap = 'gray')"
   ]
  },
  {
   "cell_type": "code",
   "execution_count": null,
   "metadata": {},
   "outputs": [],
   "source": []
  }
 ],
 "metadata": {
  "kernelspec": {
   "display_name": "Python 2",
   "language": "python",
   "name": "python2"
  },
  "language_info": {
   "codemirror_mode": {
    "name": "ipython",
    "version": 2
   },
   "file_extension": ".py",
   "mimetype": "text/x-python",
   "name": "python",
   "nbconvert_exporter": "python",
   "pygments_lexer": "ipython2",
   "version": "2.7.14"
  }
 },
 "nbformat": 4,
 "nbformat_minor": 1
}
